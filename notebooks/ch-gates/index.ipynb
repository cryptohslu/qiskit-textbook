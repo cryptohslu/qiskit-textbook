{
 "cells": [
  {
   "cell_type": "markdown",
   "id": "b9c6af1f-5da3-4555-afca-687070ec6e48",
   "metadata": {},
   "source": [
    "# Chapter 3 - Multiple Qubits & Entanglement\n",
    "\n",
    "## Contents\n",
    "\n",
    "1. [Introduction](./introduction.ipynb)\n",
    "2. [Multiple Qubits and Entangled States](./multiple-qubits-entangled-states.ipynb)\n",
    "3. [Phase Kickback](./phase-kickback.ipynb)\n",
    "4. [Basic Circuit Identities](./basic-circuit-identities.ipynb)\n",
    "5. [Classical Computation on a Quantum Computer](./oracles.ipynb)\n",
    "6. [Proving Universality](./proving-universality.ipynb)"
   ]
  }
 ],
 "metadata": {
  "kernelspec": {
   "display_name": "Python 3 (ipykernel)",
   "language": "python",
   "name": "python3"
  },
  "language_info": {
   "codemirror_mode": {
    "name": "ipython",
    "version": 3
   },
   "file_extension": ".py",
   "mimetype": "text/x-python",
   "name": "python",
   "nbconvert_exporter": "python",
   "pygments_lexer": "ipython3",
   "version": "3.11.7"
  }
 },
 "nbformat": 4,
 "nbformat_minor": 5
}
