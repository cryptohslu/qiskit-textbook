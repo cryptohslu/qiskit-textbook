{
 "cells": [
  {
   "cell_type": "markdown",
   "id": "c17b2320-420b-4a0c-9256-e103f0545e88",
   "metadata": {},
   "source": [
    "# Chapter 8 - Quantum machine learning course\n",
    "\n",
    "## Contents\n",
    "\n",
    "1. [Introduction](./introduction.ipynb)\n",
    "2. [Parameterized quantum circuits](./pqc.ipynb)\n",
    "3. [Data encoding](./encoding.ipynb)\n",
    "4. [Training parameterized quantum circuits](./training.ipynb)\n",
    "5. [Supervised learning](./supervised.ipynb)\n",
    "6. [Variational classification](./vqc.ipynb)\n",
    "7. [Quantum feature maps and kernels](./kernel.ipynb)\n",
    "8. [Unsupervised learning](./unsupervised.ipynb)\n",
    "9. [Quantum generative adversarial networks](./qgan.ipynb)\n",
    "10. [Project](./project.ipynb)"
   ]
  }
 ],
 "metadata": {
  "kernelspec": {
   "display_name": "Python 3 (ipykernel)",
   "language": "python",
   "name": "python3"
  },
  "language_info": {
   "codemirror_mode": {
    "name": "ipython",
    "version": 3
   },
   "file_extension": ".py",
   "mimetype": "text/x-python",
   "name": "python",
   "nbconvert_exporter": "python",
   "pygments_lexer": "ipython3",
   "version": "3.11.7"
  }
 },
 "nbformat": 4,
 "nbformat_minor": 5
}
