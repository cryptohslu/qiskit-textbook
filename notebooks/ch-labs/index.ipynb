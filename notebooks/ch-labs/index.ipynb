{
 "cells": [
  {
   "cell_type": "markdown",
   "id": "eb684c63-e8c8-437d-91fe-c9fb3cdc437b",
   "metadata": {},
   "source": [
    "# Chapter 9 - Quantum Computing Labs\n",
    "\n",
    "## Contents\n",
    "\n",
    "1. [Lab 1 Quantum Circuits](./Lab01_QuantumCircuits.ipynb)\n",
    "2. [Lab 2 Single Qubit Gates](./Lab02_Single_Qubit_Gates.ipynb)\n",
    "3. [Lab 3 Quantum Measurements](./Lab03_QuantumMeasurement.ipynb)\n",
    "4. [Lab 4 Bell Circuit & GHZ Circuit](./Lab04_Bell_GHZ_Circuit.ipynb)\n",
    "5. [Lab 5 Accuracy of Quantum Phase Estimation](./Lab05_AccuracyQPE.ipynb)\n",
    "6. [Lab 6 Iterative Phase Estimation Algorithm](./Lab06_IterativePhaseEstimation.ipynb)\n",
    "7. [Lab 7 Scalable Shor’s Algorithm](./Lab07_Scalable_Shor_Algorithm.ipynb)\n",
    "8. [Lab 8 Grover’s search with an unknown number of solutions](./Lab08_Grover_search_with_an_unknown_number_of_solutions.ipynb)\n",
    "9. [Lab 9 Quantum Simulation as a Search Algorithm](./Lab09_QuantumSimulationSearchAlgorithm.ipynb)\n",
    "10. [Lab 10 Quantum Error Correction](./Lab10_QEC.ipynb)"
   ]
  }
 ],
 "metadata": {
  "kernelspec": {
   "display_name": "Python 3 (ipykernel)",
   "language": "python",
   "name": "python3"
  },
  "language_info": {
   "codemirror_mode": {
    "name": "ipython",
    "version": 3
   },
   "file_extension": ".py",
   "mimetype": "text/x-python",
   "name": "python",
   "nbconvert_exporter": "python",
   "pygments_lexer": "ipython3",
   "version": "3.11.7"
  }
 },
 "nbformat": 4,
 "nbformat_minor": 5
}
