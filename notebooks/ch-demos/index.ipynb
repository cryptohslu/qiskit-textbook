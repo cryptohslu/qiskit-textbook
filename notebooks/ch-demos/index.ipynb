{
 "cells": [
  {
   "cell_type": "markdown",
   "id": "6a313c73-b5df-42ea-a326-951f50d97654",
   "metadata": {},
   "source": [
    "# Chapter 11 - Games & Demos\n",
    "\n",
    "## Contents\n",
    "\n",
    "1. [Hello Qiskit](./hello-qiskit.ipynb)\n",
    "2. [Estimating Pi using Quantum Phase Estimation Algorithm](./piday-code.ipynb)\n",
    "3. [Local Reality and the CHSH inequality](./chsh.ipynb)\n",
    "4. [Quantum Coin Game](./coin-game.ipynb)\n",
    "5. [variational-quantum-regression.ipynb](./variational-quantum-regression.ipynb)"
   ]
  }
 ],
 "metadata": {
  "kernelspec": {
   "display_name": "Python 3 (ipykernel)",
   "language": "python",
   "name": "python3"
  },
  "language_info": {
   "codemirror_mode": {
    "name": "ipython",
    "version": 3
   },
   "file_extension": ".py",
   "mimetype": "text/x-python",
   "name": "python",
   "nbconvert_exporter": "python",
   "pygments_lexer": "ipython3",
   "version": "3.11.7"
  }
 },
 "nbformat": 4,
 "nbformat_minor": 5
}
