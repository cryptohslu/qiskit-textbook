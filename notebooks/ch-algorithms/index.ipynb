{
 "cells": [
  {
   "cell_type": "markdown",
   "id": "1556747d-55bc-4d2e-ab7c-5a68c1da084d",
   "metadata": {},
   "source": [
    "# Chapter 4 - Quantum Protocols & Quantum Algorithms\n",
    "\n",
    "## Contents\n",
    "\n",
    "1. [Quantum Circuits](./defining-quantum-circuits.ipynb)\n",
    "2. [Deutsch-Jozsa Algorithm](./deutsch-jozsa.ipynb)\n",
    "3. [Bernstein-Vazirani Algorithm](./bernstein-vazirani.ipynb)\n",
    "4. [Simon's Algorithm](./simon.ipynb)\n",
    "5. [Quantum Fourier Transform](./quantum-fourier-transform.ipynb)\n",
    "6. [Quantum Phase Estimation](./quantum-phase-estimation.ipynb)\n",
    "7. [Shor's Algorithm](./shor.ipynb)\n",
    "8. [Grover’s Algorithm](./grover.ipynb)\n",
    "9. [Quantum Counting](./quantum-counting.ipynb)\n",
    "10. [Quantum Walk Search Algorithm](./quantum-walk-search-algorithm.ipynb)\n",
    "11. [Hidden Shift Problem](./hidden-shift-problem.ipynb)\n",
    "12. [Quantum Key Distribution](./quantum-key-distribution.ipynb)\n",
    "13. [Superdense Coding](./superdense-coding.ipynb)\n",
    "14. [Quantum Teleportation](./teleportation.ipynb)"
   ]
  }
 ],
 "metadata": {
  "kernelspec": {
   "display_name": "Python 3 (ipykernel)",
   "language": "python",
   "name": "python3"
  },
  "language_info": {
   "codemirror_mode": {
    "name": "ipython",
    "version": 3
   },
   "file_extension": ".py",
   "mimetype": "text/x-python",
   "name": "python",
   "nbconvert_exporter": "python",
   "pygments_lexer": "ipython3",
   "version": "3.11.7"
  }
 },
 "nbformat": 4,
 "nbformat_minor": 5
}
