{
 "cells": [
  {
   "cell_type": "markdown",
   "id": "193d71fa-5c45-49d3-89ad-93ca1aae8c2f",
   "metadata": {},
   "source": [
    "# Chapter 0 - Prerequisites\n",
    "\n",
    "## Contents\n",
    "\n",
    "1. [Environment Setup Guide to work with Qiskit Textbook](./setting-the-environment.ipynb)\n",
    "2. [Introduction to Python and Jupyter notebooks](./python-and-jupyter-notebooks.ipynb)"
   ]
  }
 ],
 "metadata": {
  "kernelspec": {
   "display_name": "Python 3 (ipykernel)",
   "language": "python",
   "name": "python3"
  },
  "language_info": {
   "codemirror_mode": {
    "name": "ipython",
    "version": 3
   },
   "file_extension": ".py",
   "mimetype": "text/x-python",
   "name": "python",
   "nbconvert_exporter": "python",
   "pygments_lexer": "ipython3",
   "version": "3.11.7"
  }
 },
 "nbformat": 4,
 "nbformat_minor": 5
}
