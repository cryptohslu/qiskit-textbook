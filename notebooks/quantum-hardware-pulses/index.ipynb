{
 "cells": [
  {
   "cell_type": "markdown",
   "id": "8acc9386-ce63-4a52-8789-59c580786d8d",
   "metadata": {},
   "source": [
    "# Chapter 7 - Investigating Quantum Hardware using Microwave Pulses\n",
    "\n",
    "## Contents\n",
    "\n",
    "1. [Calibrating qubits using Qiskit Pulse](./calibrating-qubits-pulse.ipynb)\n",
    "2. [Accessing higher energy states with Qiskit Pulse](./accessing_higher_energy_states.ipynb)\n",
    "3. [Introduction to Transmon Physics](./transmon-physics.ipynb)\n",
    "4. [Circuit Quantum Electrodynamics](./cQED-JC-SW.ipynb)\n",
    "5. [Exploring the Jaynes-Cummings Hamiltonian with Qiskit Pulse](./Jaynes-Cummings-model.ipynb)\n",
    "6. [Measuring the Qubit ac-Stark Shift](./ac-Stark-shift.ipynb)\n",
    "7. [Hamiltonian Tomography](./hamiltonian-tomography.ipynb)\n"
   ]
  }
 ],
 "metadata": {
  "kernelspec": {
   "display_name": "Python 3 (ipykernel)",
   "language": "python",
   "name": "python3"
  },
  "language_info": {
   "codemirror_mode": {
    "name": "ipython",
    "version": 3
   },
   "file_extension": ".py",
   "mimetype": "text/x-python",
   "name": "python",
   "nbconvert_exporter": "python",
   "pygments_lexer": "ipython3",
   "version": "3.11.7"
  }
 },
 "nbformat": 4,
 "nbformat_minor": 5
}
