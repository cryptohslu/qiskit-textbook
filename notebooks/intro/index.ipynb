{
 "cells": [
  {
   "cell_type": "markdown",
   "id": "289cd692-7bea-4ead-b499-78d390cfa63c",
   "metadata": {},
   "source": [
    "# Chapter 1 - Introduction\n",
    "\n",
    "## Contents\n",
    "\n",
    "1. [Why quantum computing?](./why-quantum-computing.ipynb)\n",
    "2. [The atoms of computation](./atoms-of-computation.ipynb)\n",
    "3. [What is quantum?](./what-is-quantum.ipynb)\n",
    "4. [Describing quantum computers](./describing-quantum-computers.ipynb)\n",
    "5. [Entangled states](./entangled-states.ipynb)\n",
    "6. [Visualizing Entanglement](./visualizing-entanglement.ipynb)\n",
    "7. [Grover's search algorithm](./grover-intro.ipynb)\n",
    "8. [Project](./project.ipynb)"
   ]
  }
 ],
 "metadata": {
  "kernelspec": {
   "display_name": "Python 3 (ipykernel)",
   "language": "python",
   "name": "python3"
  },
  "language_info": {
   "codemirror_mode": {
    "name": "ipython",
    "version": 3
   },
   "file_extension": ".py",
   "mimetype": "text/x-python",
   "name": "python",
   "nbconvert_exporter": "python",
   "pygments_lexer": "ipython3",
   "version": "3.11.7"
  }
 },
 "nbformat": 4,
 "nbformat_minor": 5
}
