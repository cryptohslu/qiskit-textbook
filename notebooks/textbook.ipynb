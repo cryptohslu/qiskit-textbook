{
 "cells": [
  {
   "cell_type": "markdown",
   "id": "2a8b35b9-c537-47e1-a3d7-d8261d99f797",
   "metadata": {},
   "source": [
    "# Qiskit textbook\n",
    "\n",
    "## Chapters\n",
    "\n",
    "0. [Prerequisites](./ch-prerequisites/index.ipynb)\n",
    "1. [Introduction](./intro/index.ipynb)\n",
    "2. [Quantum states & Qubits](./ch-states/index.ipynb)\n",
    "3. [Multiple Qubits & Entanglement](./ch-gates/index.ipynb)\n",
    "4. [Quantum Protocols & Quantum Algorithms](./ch-algorithms/index.ipynb)\n",
    "5. [Quantum Algorithms for Applications](./ch-applications/index.ipynb)\n",
    "6. [Investigating Quantum Hardware Using Quantum Circuits](./quantum-hardware/index.ipynb)\n",
    "7. [Investigating Quantum Hardware using Microwave Pulses](./quantum-hardware-pulses/index.ipynb)\n",
    "8. [Quantum Machine Learning](./quantum-machine-learning/index.ipynb)\n",
    "9. [Quantum Computing Labs](./ch-labs/index.ipynb)\n",
    "10. [Appendix](./ch-appendix/index.ipynb)\n",
    "11. [Games & Demos](./ch-demos/index.ipynb)"
   ]
  }
 ],
 "metadata": {
  "kernelspec": {
   "display_name": "Python 3 (ipykernel)",
   "language": "python",
   "name": "python3"
  },
  "language_info": {
   "codemirror_mode": {
    "name": "ipython",
    "version": 3
   },
   "file_extension": ".py",
   "mimetype": "text/x-python",
   "name": "python",
   "nbconvert_exporter": "python",
   "pygments_lexer": "ipython3",
   "version": "3.11.7"
  }
 },
 "nbformat": 4,
 "nbformat_minor": 5
}
