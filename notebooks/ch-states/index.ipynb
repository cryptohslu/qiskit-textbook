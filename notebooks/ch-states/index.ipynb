{
 "cells": [
  {
   "cell_type": "markdown",
   "id": "dba8ca44-12a9-4198-ab53-4bee3f785a47",
   "metadata": {},
   "source": [
    "# Chapter 2 - Quantum states & Qubits\n",
    "\n",
    "## Contents\n",
    "\n",
    "1. [Introduction](./introduction.ipynb)\n",
    "2. [The Atoms of Computation](./atoms-computation.ipynb)\n",
    "3. [Representing Qubit States](./representing-qubit-states.ipynb)\n",
    "4. [Single Qubit Gates](./single-qubit-gates.ipynb)\n",
    "5. [The Case for Quantum Computers](./case-for-quantum.ipynb)"
   ]
  }
 ],
 "metadata": {
  "kernelspec": {
   "display_name": "Python 3 (ipykernel)",
   "language": "python",
   "name": "python3"
  },
  "language_info": {
   "codemirror_mode": {
    "name": "ipython",
    "version": 3
   },
   "file_extension": ".py",
   "mimetype": "text/x-python",
   "name": "python",
   "nbconvert_exporter": "python",
   "pygments_lexer": "ipython3",
   "version": "3.11.7"
  }
 },
 "nbformat": 4,
 "nbformat_minor": 5
}
