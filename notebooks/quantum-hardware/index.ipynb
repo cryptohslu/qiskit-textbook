{
 "cells": [
  {
   "cell_type": "markdown",
   "id": "ba536294-df4c-4df0-8a83-d325105b87ef",
   "metadata": {},
   "source": [
    "# Chapter 6 - Investigating Quantum Hardware using Quantum Circuits\n",
    "\n",
    "## Contents\n",
    "\n",
    "1. [Introduction to Quantum Error Correction via the Repetition Code](./error-correction-repetition-code.ipynb)\n",
    "2. [Measurement Error Mitigation](./measurement-error-mitigation.ipynb)\n",
    "3. [Randomized Benchmarking](./randomized-benchmarking.ipynb)\n",
    "4. [Measuring Quantum Volume](./measuring-quantum-volume.ipynb)\n",
    "5. [The Density Matrix and Mixed States](./density-matrix.ipynb)"
   ]
  }
 ],
 "metadata": {
  "kernelspec": {
   "display_name": "Python 3 (ipykernel)",
   "language": "python",
   "name": "python3"
  },
  "language_info": {
   "codemirror_mode": {
    "name": "ipython",
    "version": 3
   },
   "file_extension": ".py",
   "mimetype": "text/x-python",
   "name": "python",
   "nbconvert_exporter": "python",
   "pygments_lexer": "ipython3",
   "version": "3.11.7"
  }
 },
 "nbformat": 4,
 "nbformat_minor": 5
}
