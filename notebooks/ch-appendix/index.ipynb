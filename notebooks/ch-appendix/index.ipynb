{
 "cells": [
  {
   "cell_type": "markdown",
   "id": "ffb368c4-fb6c-4119-bcce-c8bde3fae871",
   "metadata": {},
   "source": [
    "# Chapter 10 - Appendix\n",
    "\n",
    "## Contents\n",
    "\n",
    "1. [Basic Qiskit Syntax](./qiskit.ipynb)\n",
    "2. [An Introduction to Linear Algebra for Quantum Computing](./linear_algebra.ipynb)"
   ]
  }
 ],
 "metadata": {
  "kernelspec": {
   "display_name": "Python 3 (ipykernel)",
   "language": "python",
   "name": "python3"
  },
  "language_info": {
   "codemirror_mode": {
    "name": "ipython",
    "version": 3
   },
   "file_extension": ".py",
   "mimetype": "text/x-python",
   "name": "python",
   "nbconvert_exporter": "python",
   "pygments_lexer": "ipython3",
   "version": "3.11.7"
  }
 },
 "nbformat": 4,
 "nbformat_minor": 5
}
