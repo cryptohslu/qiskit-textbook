{
 "cells": [
  {
   "cell_type": "markdown",
   "id": "bc8763cb-92ea-41b1-b90d-b7fe67f00653",
   "metadata": {},
   "source": [
    "# Chapter 5 - Quantum Algorithms for Applications\n",
    "\n",
    "## Contents\n",
    "\n",
    "1. [Solving linear systems of equations using HHL and its Qiskit implementation](./hhl_tutorial.ipynb)\n",
    "2. [Simulating Molecules using VQE](./vqe-molecules.ipynb)\n",
    "3. [Solving combinatorial optimization problems using QAOA](./qaoa.ipynb)\n",
    "4. [Solving Satisfiability Problems using Grover's Algorithm](./satisfiability-grover.ipynb)\n",
    "5. [Hybrid quantum-classical Neural Networks with PyTorch and Qiskit](./machine-learning-qiskit-pytorch.ipynb)\n",
    "6. [Flexible Representation of Quantum Images (FRQI) and Novel Enhanced Quantum Representation (NEQR)](./image-processing-frqi-neqr.ipynb)\n",
    "7. [Quantum Facial Expression Recognition](./facial-expression-recognition.ipynb)\n",
    "8. [Quantum edge detection](./quantum-edge-detection.ipynb)\n",
    "9. [Travelling Salesman Problem using Quantum Phase Estimation](./tsp.ipynb)\n",
    "10. [The Variational Quantum Linear Solver](./vqls.ipynb)"
   ]
  }
 ],
 "metadata": {
  "kernelspec": {
   "display_name": "Python 3 (ipykernel)",
   "language": "python",
   "name": "python3"
  },
  "language_info": {
   "codemirror_mode": {
    "name": "ipython",
    "version": 3
   },
   "file_extension": ".py",
   "mimetype": "text/x-python",
   "name": "python",
   "nbconvert_exporter": "python",
   "pygments_lexer": "ipython3",
   "version": "3.11.7"
  }
 },
 "nbformat": 4,
 "nbformat_minor": 5
}
